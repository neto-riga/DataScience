{
 "cells": [
  {
   "cell_type": "markdown",
   "metadata": {},
   "source": [
    "# Data Analysis 4 - ML\n",
    "---\n",
    "Data set [Diamonds](https://www.kaggle.com/shivam2503/diamonds)<br>\n",
    "Main ideas from [pythonprogramming.net](https://pythonprogramming.net/machine-learning-python3-pandas-data-analysis/)"
   ]
  },
  {
   "cell_type": "code",
   "execution_count": 11,
   "metadata": {},
   "outputs": [
    {
     "data": {
      "text/html": [
       "<div>\n",
       "<style scoped>\n",
       "    .dataframe tbody tr th:only-of-type {\n",
       "        vertical-align: middle;\n",
       "    }\n",
       "\n",
       "    .dataframe tbody tr th {\n",
       "        vertical-align: top;\n",
       "    }\n",
       "\n",
       "    .dataframe thead th {\n",
       "        text-align: right;\n",
       "    }\n",
       "</style>\n",
       "<table border=\"1\" class=\"dataframe\">\n",
       "  <thead>\n",
       "    <tr style=\"text-align: right;\">\n",
       "      <th></th>\n",
       "      <th>carat</th>\n",
       "      <th>cut</th>\n",
       "      <th>color</th>\n",
       "      <th>clarity</th>\n",
       "      <th>depth</th>\n",
       "      <th>table</th>\n",
       "      <th>price</th>\n",
       "      <th>x</th>\n",
       "      <th>y</th>\n",
       "      <th>z</th>\n",
       "    </tr>\n",
       "  </thead>\n",
       "  <tbody>\n",
       "    <tr>\n",
       "      <th>1</th>\n",
       "      <td>0.23</td>\n",
       "      <td>Ideal</td>\n",
       "      <td>E</td>\n",
       "      <td>SI2</td>\n",
       "      <td>61.5</td>\n",
       "      <td>55.0</td>\n",
       "      <td>326</td>\n",
       "      <td>3.95</td>\n",
       "      <td>3.98</td>\n",
       "      <td>2.43</td>\n",
       "    </tr>\n",
       "    <tr>\n",
       "      <th>2</th>\n",
       "      <td>0.21</td>\n",
       "      <td>Premium</td>\n",
       "      <td>E</td>\n",
       "      <td>SI1</td>\n",
       "      <td>59.8</td>\n",
       "      <td>61.0</td>\n",
       "      <td>326</td>\n",
       "      <td>3.89</td>\n",
       "      <td>3.84</td>\n",
       "      <td>2.31</td>\n",
       "    </tr>\n",
       "    <tr>\n",
       "      <th>3</th>\n",
       "      <td>0.23</td>\n",
       "      <td>Good</td>\n",
       "      <td>E</td>\n",
       "      <td>VS1</td>\n",
       "      <td>56.9</td>\n",
       "      <td>65.0</td>\n",
       "      <td>327</td>\n",
       "      <td>4.05</td>\n",
       "      <td>4.07</td>\n",
       "      <td>2.31</td>\n",
       "    </tr>\n",
       "    <tr>\n",
       "      <th>4</th>\n",
       "      <td>0.29</td>\n",
       "      <td>Premium</td>\n",
       "      <td>I</td>\n",
       "      <td>VS2</td>\n",
       "      <td>62.4</td>\n",
       "      <td>58.0</td>\n",
       "      <td>334</td>\n",
       "      <td>4.20</td>\n",
       "      <td>4.23</td>\n",
       "      <td>2.63</td>\n",
       "    </tr>\n",
       "    <tr>\n",
       "      <th>5</th>\n",
       "      <td>0.31</td>\n",
       "      <td>Good</td>\n",
       "      <td>J</td>\n",
       "      <td>SI2</td>\n",
       "      <td>63.3</td>\n",
       "      <td>58.0</td>\n",
       "      <td>335</td>\n",
       "      <td>4.34</td>\n",
       "      <td>4.35</td>\n",
       "      <td>2.75</td>\n",
       "    </tr>\n",
       "  </tbody>\n",
       "</table>\n",
       "</div>"
      ],
      "text/plain": [
       "   carat      cut color clarity  depth  table  price     x     y     z\n",
       "1   0.23    Ideal     E     SI2   61.5   55.0    326  3.95  3.98  2.43\n",
       "2   0.21  Premium     E     SI1   59.8   61.0    326  3.89  3.84  2.31\n",
       "3   0.23     Good     E     VS1   56.9   65.0    327  4.05  4.07  2.31\n",
       "4   0.29  Premium     I     VS2   62.4   58.0    334  4.20  4.23  2.63\n",
       "5   0.31     Good     J     SI2   63.3   58.0    335  4.34  4.35  2.75"
      ]
     },
     "execution_count": 11,
     "metadata": {},
     "output_type": "execute_result"
    }
   ],
   "source": [
    "import pandas as pd\n",
    "\n",
    "df = pd.read_csv(\"./archive/diamonds.csv\", index_col=0)\n",
    "df.head()"
   ]
  },
  {
   "cell_type": "markdown",
   "metadata": {},
   "source": [
    "Para poder aplicar ML necesitamos convertir todas las categorías que pasemos al modelo en valores numéricos."
   ]
  },
  {
   "cell_type": "code",
   "execution_count": 12,
   "metadata": {},
   "outputs": [
    {
     "data": {
      "text/plain": [
       "array(['Ideal', 'Premium', 'Good', 'Very Good', 'Fair'], dtype=object)"
      ]
     },
     "execution_count": 12,
     "metadata": {},
     "output_type": "execute_result"
    }
   ],
   "source": [
    "df[\"cut\"].unique()"
   ]
  },
  {
   "cell_type": "code",
   "execution_count": 5,
   "metadata": {},
   "outputs": [
    {
     "data": {
      "text/plain": [
       "1        2\n",
       "2        3\n",
       "3        1\n",
       "4        3\n",
       "5        1\n",
       "        ..\n",
       "53936    2\n",
       "53937    1\n",
       "53938    4\n",
       "53939    3\n",
       "53940    2\n",
       "Length: 53940, dtype: int8"
      ]
     },
     "execution_count": 5,
     "metadata": {},
     "output_type": "execute_result"
    }
   ],
   "source": [
    "# df[\"cut\"].astype(\"category\").cat.codes   # ~Solo para conocer el método, pero en nuestro caso el \n",
    "                                           # orden importa y tiene significado, Premium es mejor\n",
    "                                           # que fair."
   ]
  },
  {
   "cell_type": "code",
   "execution_count": 6,
   "metadata": {},
   "outputs": [],
   "source": [
    "# Alternativa\n",
    "cut_class_dict = {\"Fair\": 1,\n",
    "                  \"Good\": 2,\n",
    "                  \"Very Good\": 3,\n",
    "                  \"Premium\": 4,\n",
    "                  \"Ideal\": 5,}"
   ]
  },
  {
   "cell_type": "markdown",
   "metadata": {},
   "source": [
    "De la misma manera hacemos otro diccionario para la claridad y el color del diamante. En la descropción del data set viene el orden de mejor a peor."
   ]
  },
  {
   "cell_type": "code",
   "execution_count": 7,
   "metadata": {},
   "outputs": [],
   "source": [
    "clarity_dict = {\"I3\": 1,\n",
    "                \"I2\": 2,\n",
    "                \"I1\": 3,\n",
    "                \"SI2\": 4,\n",
    "                \"SI1\": 5,\n",
    "                \"VS2\": 6,\n",
    "                \"VS1\": 7,\n",
    "                \"VVS2\": 8,\n",
    "                \"VVS1\": 9,\n",
    "                \"IF\": 10,\n",
    "                \"FL\": 11}\n",
    "\n",
    "\n",
    "color_dict = {\"J\": 1, \"I\": 2, \"H\": 3, \"G\": 4, \"F\": 5, \"E\": 6, \"D\": 7}"
   ]
  },
  {
   "cell_type": "code",
   "execution_count": 13,
   "metadata": {},
   "outputs": [
    {
     "data": {
      "text/html": [
       "<div>\n",
       "<style scoped>\n",
       "    .dataframe tbody tr th:only-of-type {\n",
       "        vertical-align: middle;\n",
       "    }\n",
       "\n",
       "    .dataframe tbody tr th {\n",
       "        vertical-align: top;\n",
       "    }\n",
       "\n",
       "    .dataframe thead th {\n",
       "        text-align: right;\n",
       "    }\n",
       "</style>\n",
       "<table border=\"1\" class=\"dataframe\">\n",
       "  <thead>\n",
       "    <tr style=\"text-align: right;\">\n",
       "      <th></th>\n",
       "      <th>carat</th>\n",
       "      <th>cut</th>\n",
       "      <th>color</th>\n",
       "      <th>clarity</th>\n",
       "      <th>depth</th>\n",
       "      <th>table</th>\n",
       "      <th>price</th>\n",
       "      <th>x</th>\n",
       "      <th>y</th>\n",
       "      <th>z</th>\n",
       "    </tr>\n",
       "  </thead>\n",
       "  <tbody>\n",
       "    <tr>\n",
       "      <th>1</th>\n",
       "      <td>0.23</td>\n",
       "      <td>5</td>\n",
       "      <td>6</td>\n",
       "      <td>4</td>\n",
       "      <td>61.5</td>\n",
       "      <td>55.0</td>\n",
       "      <td>326</td>\n",
       "      <td>3.95</td>\n",
       "      <td>3.98</td>\n",
       "      <td>2.43</td>\n",
       "    </tr>\n",
       "    <tr>\n",
       "      <th>2</th>\n",
       "      <td>0.21</td>\n",
       "      <td>4</td>\n",
       "      <td>6</td>\n",
       "      <td>5</td>\n",
       "      <td>59.8</td>\n",
       "      <td>61.0</td>\n",
       "      <td>326</td>\n",
       "      <td>3.89</td>\n",
       "      <td>3.84</td>\n",
       "      <td>2.31</td>\n",
       "    </tr>\n",
       "    <tr>\n",
       "      <th>3</th>\n",
       "      <td>0.23</td>\n",
       "      <td>2</td>\n",
       "      <td>6</td>\n",
       "      <td>7</td>\n",
       "      <td>56.9</td>\n",
       "      <td>65.0</td>\n",
       "      <td>327</td>\n",
       "      <td>4.05</td>\n",
       "      <td>4.07</td>\n",
       "      <td>2.31</td>\n",
       "    </tr>\n",
       "    <tr>\n",
       "      <th>4</th>\n",
       "      <td>0.29</td>\n",
       "      <td>4</td>\n",
       "      <td>2</td>\n",
       "      <td>6</td>\n",
       "      <td>62.4</td>\n",
       "      <td>58.0</td>\n",
       "      <td>334</td>\n",
       "      <td>4.20</td>\n",
       "      <td>4.23</td>\n",
       "      <td>2.63</td>\n",
       "    </tr>\n",
       "    <tr>\n",
       "      <th>5</th>\n",
       "      <td>0.31</td>\n",
       "      <td>2</td>\n",
       "      <td>1</td>\n",
       "      <td>4</td>\n",
       "      <td>63.3</td>\n",
       "      <td>58.0</td>\n",
       "      <td>335</td>\n",
       "      <td>4.34</td>\n",
       "      <td>4.35</td>\n",
       "      <td>2.75</td>\n",
       "    </tr>\n",
       "  </tbody>\n",
       "</table>\n",
       "</div>"
      ],
      "text/plain": [
       "   carat  cut  color  clarity  depth  table  price     x     y     z\n",
       "1   0.23    5      6        4   61.5   55.0    326  3.95  3.98  2.43\n",
       "2   0.21    4      6        5   59.8   61.0    326  3.89  3.84  2.31\n",
       "3   0.23    2      6        7   56.9   65.0    327  4.05  4.07  2.31\n",
       "4   0.29    4      2        6   62.4   58.0    334  4.20  4.23  2.63\n",
       "5   0.31    2      1        4   63.3   58.0    335  4.34  4.35  2.75"
      ]
     },
     "execution_count": 13,
     "metadata": {},
     "output_type": "execute_result"
    }
   ],
   "source": [
    "df[\"cut\"] = df[\"cut\"].map(cut_class_dict)\n",
    "df[\"clarity\"] = df[\"clarity\"].map(clarity_dict)\n",
    "df[\"color\"] = df[\"color\"].map(color_dict)\n",
    "\n",
    "df.head()"
   ]
  },
  {
   "cell_type": "markdown",
   "metadata": {},
   "source": [
    "Nuestro data set parece estar ordenado de acuerdo al precio, por lo que tendremos que cambiar el orden a uno aleatorio, de este modo el modelo estará bien entrenado"
   ]
  },
  {
   "cell_type": "code",
   "execution_count": 14,
   "metadata": {},
   "outputs": [
    {
     "data": {
      "text/html": [
       "<div>\n",
       "<style scoped>\n",
       "    .dataframe tbody tr th:only-of-type {\n",
       "        vertical-align: middle;\n",
       "    }\n",
       "\n",
       "    .dataframe tbody tr th {\n",
       "        vertical-align: top;\n",
       "    }\n",
       "\n",
       "    .dataframe thead th {\n",
       "        text-align: right;\n",
       "    }\n",
       "</style>\n",
       "<table border=\"1\" class=\"dataframe\">\n",
       "  <thead>\n",
       "    <tr style=\"text-align: right;\">\n",
       "      <th></th>\n",
       "      <th>carat</th>\n",
       "      <th>cut</th>\n",
       "      <th>color</th>\n",
       "      <th>clarity</th>\n",
       "      <th>depth</th>\n",
       "      <th>table</th>\n",
       "      <th>price</th>\n",
       "      <th>x</th>\n",
       "      <th>y</th>\n",
       "      <th>z</th>\n",
       "    </tr>\n",
       "  </thead>\n",
       "  <tbody>\n",
       "    <tr>\n",
       "      <th>15814</th>\n",
       "      <td>1.29</td>\n",
       "      <td>5</td>\n",
       "      <td>1</td>\n",
       "      <td>5</td>\n",
       "      <td>61.6</td>\n",
       "      <td>57.0</td>\n",
       "      <td>6327</td>\n",
       "      <td>6.98</td>\n",
       "      <td>7.01</td>\n",
       "      <td>4.32</td>\n",
       "    </tr>\n",
       "    <tr>\n",
       "      <th>19684</th>\n",
       "      <td>0.27</td>\n",
       "      <td>5</td>\n",
       "      <td>3</td>\n",
       "      <td>8</td>\n",
       "      <td>62.1</td>\n",
       "      <td>57.0</td>\n",
       "      <td>623</td>\n",
       "      <td>4.15</td>\n",
       "      <td>4.10</td>\n",
       "      <td>2.56</td>\n",
       "    </tr>\n",
       "    <tr>\n",
       "      <th>30403</th>\n",
       "      <td>0.32</td>\n",
       "      <td>5</td>\n",
       "      <td>4</td>\n",
       "      <td>8</td>\n",
       "      <td>62.1</td>\n",
       "      <td>55.0</td>\n",
       "      <td>730</td>\n",
       "      <td>4.35</td>\n",
       "      <td>4.38</td>\n",
       "      <td>2.71</td>\n",
       "    </tr>\n",
       "    <tr>\n",
       "      <th>44471</th>\n",
       "      <td>0.54</td>\n",
       "      <td>5</td>\n",
       "      <td>6</td>\n",
       "      <td>5</td>\n",
       "      <td>61.5</td>\n",
       "      <td>56.0</td>\n",
       "      <td>1594</td>\n",
       "      <td>5.31</td>\n",
       "      <td>5.26</td>\n",
       "      <td>3.25</td>\n",
       "    </tr>\n",
       "    <tr>\n",
       "      <th>48271</th>\n",
       "      <td>0.53</td>\n",
       "      <td>5</td>\n",
       "      <td>7</td>\n",
       "      <td>6</td>\n",
       "      <td>60.6</td>\n",
       "      <td>57.0</td>\n",
       "      <td>1956</td>\n",
       "      <td>5.28</td>\n",
       "      <td>5.24</td>\n",
       "      <td>3.19</td>\n",
       "    </tr>\n",
       "  </tbody>\n",
       "</table>\n",
       "</div>"
      ],
      "text/plain": [
       "       carat  cut  color  clarity  depth  table  price     x     y     z\n",
       "15814   1.29    5      1        5   61.6   57.0   6327  6.98  7.01  4.32\n",
       "19684   0.27    5      3        8   62.1   57.0    623  4.15  4.10  2.56\n",
       "30403   0.32    5      4        8   62.1   55.0    730  4.35  4.38  2.71\n",
       "44471   0.54    5      6        5   61.5   56.0   1594  5.31  5.26  3.25\n",
       "48271   0.53    5      7        6   60.6   57.0   1956  5.28  5.24  3.19"
      ]
     },
     "execution_count": 14,
     "metadata": {},
     "output_type": "execute_result"
    }
   ],
   "source": [
    "import sklearn\n",
    "from sklearn import svm\n",
    "\n",
    "df = sklearn.utils.shuffle(df)\n",
    "df.head()"
   ]
  },
  {
   "cell_type": "code",
   "execution_count": 16,
   "metadata": {},
   "outputs": [
    {
     "name": "stdout",
     "output_type": "stream",
     "text": [
      "<class 'pandas.core.frame.DataFrame'>\n",
      "Int64Index: 53940 entries, 15814 to 23929\n",
      "Data columns (total 10 columns):\n",
      " #   Column   Non-Null Count  Dtype  \n",
      "---  ------   --------------  -----  \n",
      " 0   carat    53940 non-null  float64\n",
      " 1   cut      53940 non-null  int64  \n",
      " 2   color    53940 non-null  int64  \n",
      " 3   clarity  53940 non-null  int64  \n",
      " 4   depth    53940 non-null  float64\n",
      " 5   table    53940 non-null  float64\n",
      " 6   price    53940 non-null  int64  \n",
      " 7   x        53940 non-null  float64\n",
      " 8   y        53940 non-null  float64\n",
      " 9   z        53940 non-null  float64\n",
      "dtypes: float64(6), int64(4)\n",
      "memory usage: 4.5 MB\n"
     ]
    }
   ],
   "source": [
    "df.info()"
   ]
  },
  {
   "cell_type": "code",
   "execution_count": 20,
   "metadata": {},
   "outputs": [],
   "source": [
    "X = df.drop(\"price\", axis=1).values\n",
    "y = df['price'].values\n",
    "\n",
    "test_size = int(53_940 - 53_940 * 0.8) # Entrenaremos con el 80% de lo datos a nuestro modelo\n",
    "\n",
    "X_train = X[:-test_size]\n",
    "y_train = y[:-test_size]\n",
    "\n",
    "X_test = X[-test_size:]\n",
    "y_test = y[-test_size:]"
   ]
  },
  {
   "cell_type": "code",
   "execution_count": 21,
   "metadata": {},
   "outputs": [
    {
     "data": {
      "text/plain": [
       "SVR(kernel='linear')"
      ]
     },
     "execution_count": 21,
     "metadata": {},
     "output_type": "execute_result"
    }
   ],
   "source": [
    "clf = svm.SVR(kernel = \"linear\")\n",
    "clf.fit(X_train, y_train)"
   ]
  },
  {
   "cell_type": "code",
   "execution_count": 22,
   "metadata": {},
   "outputs": [
    {
     "data": {
      "text/plain": [
       "0.8057693945232232"
      ]
     },
     "execution_count": 22,
     "metadata": {},
     "output_type": "execute_result"
    }
   ],
   "source": [
    "clf.score(X_test, y_test)"
   ]
  },
  {
   "cell_type": "code",
   "execution_count": 24,
   "metadata": {},
   "outputs": [
    {
     "name": "stdout",
     "output_type": "stream",
     "text": [
      "Model: 1057.1465542287588, Actual: 1087\n",
      "Model: 2778.821736820708, Actual: 1969\n",
      "Model: 6520.0775894996805, Actual: 7549\n",
      "Model: 9844.468732909281, Actual: 16731\n",
      "Model: 3963.105287516333, Actual: 3286\n",
      "Model: 5366.153130563249, Actual: 6600\n",
      "Model: 5009.086492361781, Actual: 4537\n",
      "Model: 1721.3205487706982, Actual: 1298\n",
      "Model: 2920.3607305515106, Actual: 2495\n",
      "Model: 4088.1114029751698, Actual: 2932\n",
      "Model: 7405.427672707901, Actual: 9072\n",
      "Model: 4821.931924062195, Actual: 3750\n",
      "Model: 456.768865033755, Actual: 636\n",
      "Model: 4426.792450539582, Actual: 4788\n",
      "Model: 3628.769917694717, Actual: 2617\n",
      "Model: 10657.173371614062, Actual: 11579\n",
      "Model: 3794.3443649549954, Actual: 1954\n",
      "Model: 572.8100028204117, Actual: 1069\n",
      "Model: 1693.7160140930464, Actual: 1323\n",
      "Model: 4516.123511651607, Actual: 4870\n",
      "Model: 2518.0777737668104, Actual: 1940\n",
      "Model: 6593.312085934038, Actual: 8588\n",
      "Model: 980.9965267711486, Actual: 694\n",
      "Model: 4755.275341377936, Actual: 3692\n",
      "Model: 5296.128072079777, Actual: 6618\n",
      "Model: 4639.946989663829, Actual: 4416\n",
      "Model: -41.568571185533074, Actual: 589\n",
      "Model: 6044.366696919005, Actual: 7898\n",
      "Model: 5376.8274701510745, Actual: 5088\n",
      "Model: 2012.1063567450801, Actual: 1749\n"
     ]
    }
   ],
   "source": [
    "for X,y in zip(X_test[:30], y_test[:30]):\n",
    "    print(f\"Model: {clf.predict([X])[0]}, Actual: {y}\")"
   ]
  },
  {
   "cell_type": "markdown",
   "metadata": {},
   "source": [
    "Interesante ver como el modelo sugiere en algunos casos que le paguemos a alguien para que tome el diamante xd.\n",
    "Comparémoslo entrenando ahora un rbf en lugar de uno lineal"
   ]
  },
  {
   "cell_type": "code",
   "execution_count": 25,
   "metadata": {},
   "outputs": [
    {
     "data": {
      "text/plain": [
       "SVR()"
      ]
     },
     "execution_count": 25,
     "metadata": {},
     "output_type": "execute_result"
    }
   ],
   "source": [
    "clf = svm.SVR(kernel = \"rbf\")\n",
    "clf.fit(X_train, y_train)"
   ]
  },
  {
   "cell_type": "code",
   "execution_count": 26,
   "metadata": {},
   "outputs": [
    {
     "data": {
      "text/plain": [
       "-0.1284447183422448"
      ]
     },
     "execution_count": 26,
     "metadata": {},
     "output_type": "execute_result"
    }
   ],
   "source": [
    "clf.score(X_test, y_test)"
   ]
  },
  {
   "cell_type": "code",
   "execution_count": 27,
   "metadata": {},
   "outputs": [
    {
     "name": "stdout",
     "output_type": "stream",
     "text": [
      "Model: 2333.5816802080817, Actual: 1087\n",
      "Model: 2347.5625859427014, Actual: 1969\n",
      "Model: 2473.7303685723114, Actual: 7549\n",
      "Model: 2538.2940666207514, Actual: 16731\n",
      "Model: 2444.725505960763, Actual: 3286\n",
      "Model: 2426.772966362022, Actual: 6600\n",
      "Model: 2461.2203702906513, Actual: 4537\n",
      "Model: 2342.8845953253817, Actual: 1298\n",
      "Model: 2420.540616910389, Actual: 2495\n",
      "Model: 2395.555799860845, Actual: 2932\n",
      "Model: 2480.1861345239595, Actual: 9072\n",
      "Model: 2472.12770712327, Actual: 3750\n",
      "Model: 2335.478897042499, Actual: 636\n",
      "Model: 2458.4198493248537, Actual: 4788\n",
      "Model: 2412.8527968365697, Actual: 2617\n",
      "Model: 2540.4074488431074, Actual: 11579\n",
      "Model: 2451.9587823278343, Actual: 1954\n",
      "Model: 2370.735961950878, Actual: 1069\n",
      "Model: 2338.7297255531876, Actual: 1323\n",
      "Model: 2431.856143441774, Actual: 4870\n",
      "Model: 2432.9752453657443, Actual: 1940\n",
      "Model: 2411.96564606147, Actual: 8588\n",
      "Model: 2312.1796441447163, Actual: 694\n",
      "Model: 2435.497232319539, Actual: 3692\n",
      "Model: 2421.506837289361, Actual: 6618\n",
      "Model: 2448.1133941268913, Actual: 4416\n",
      "Model: 2332.783505769088, Actual: 589\n",
      "Model: 2410.1002583827353, Actual: 7898\n",
      "Model: 2446.739160700195, Actual: 5088\n",
      "Model: 2366.8695248307317, Actual: 1749\n"
     ]
    }
   ],
   "source": [
    "for X,y in zip(X_test[:30], y_test[:30]):\n",
    "    print(f\"Model: {clf.predict([X])[0]}, Actual: {y}\")"
   ]
  },
  {
   "cell_type": "markdown",
   "metadata": {},
   "source": [
    "En definitiva el modelo linear obtuvo un mejor resultado, a pesar de tener valores negativos en sus predicciones."
   ]
  },
  {
   "cell_type": "markdown",
   "metadata": {},
   "source": [
    "Otra cosa que podemos hacer es normalizar los datos y ver como afecto esto a nuestros modelos."
   ]
  },
  {
   "cell_type": "code",
   "execution_count": 30,
   "metadata": {},
   "outputs": [],
   "source": [
    "from sklearn import preprocessing\n",
    "\n",
    "X = df.drop(\"price\", axis=1).values\n",
    "X = preprocessing.scale(X)\n",
    "y = df[\"price\"].values\n",
    "\n",
    "X_train = X[:-test_size]\n",
    "y_train = y[:-test_size]\n",
    "\n",
    "X_test = X[-test_size:]\n",
    "y_test = y[-test_size:]"
   ]
  },
  {
   "cell_type": "code",
   "execution_count": 31,
   "metadata": {},
   "outputs": [
    {
     "name": "stdout",
     "output_type": "stream",
     "text": [
      "Scare: 0.862896\n",
      "Model: 1015.9282596610756, Actual: 1087\n",
      "Model: 2417.73038799347, Actual: 1969\n",
      "Model: 7043.032881205988, Actual: 7549\n",
      "Model: 11433.822854705271, Actual: 16731\n",
      "Model: 3843.6943188617615, Actual: 3286\n",
      "Model: 5242.935893930722, Actual: 6600\n",
      "Model: 4994.434103727581, Actual: 4537\n",
      "Model: 1612.9284060154714, Actual: 1298\n",
      "Model: 2652.9767547045435, Actual: 2495\n",
      "Model: 3594.675632580835, Actual: 2932\n",
      "Model: 8090.877459118174, Actual: 9072\n",
      "Model: 4731.709130767178, Actual: 3750\n",
      "Model: 631.6344514739653, Actual: 636\n",
      "Model: 4348.9992927453695, Actual: 4788\n",
      "Model: 3347.9093130234196, Actual: 2617\n",
      "Model: 12612.712761014565, Actual: 11579\n",
      "Model: 3847.560978437749, Actual: 1954\n",
      "Model: 613.0373360227336, Actual: 1069\n",
      "Model: 1608.6855413760231, Actual: 1323\n",
      "Model: 4513.164939034804, Actual: 4870\n",
      "Model: 2244.6184996147817, Actual: 1940\n",
      "Model: 6665.041099522412, Actual: 8588\n",
      "Model: 991.634756709685, Actual: 694\n",
      "Model: 4760.472488951949, Actual: 3692\n",
      "Model: 5127.53447135253, Actual: 6618\n",
      "Model: 4637.997285327983, Actual: 4416\n",
      "Model: 331.1662054861936, Actual: 589\n",
      "Model: 5743.392081906488, Actual: 7898\n",
      "Model: 5400.944647290571, Actual: 5088\n",
      "Model: 1874.3997632700234, Actual: 1749\n"
     ]
    }
   ],
   "source": [
    "clf = svm.SVR(kernel = \"linear\")\n",
    "clf.fit(X_train, y_train)\n",
    "\n",
    "print(f\"Score: {clf.score(X_test, y_test) :.6g}\")\n",
    "\n",
    "for X,y in zip(X_test[:30], y_test[:30]):\n",
    "    print(f\"Model: {clf.predict([X])[0]}, Actual: {y}\")"
   ]
  }
 ],
 "metadata": {
  "interpreter": {
   "hash": "018d6bb511f7e2114cc8c8fc69bbe5b589d4098b6867ddafc353a3d33e3bb29a"
  },
  "kernelspec": {
   "display_name": "Python 3.9.2 64-bit",
   "name": "python3"
  },
  "language_info": {
   "codemirror_mode": {
    "name": "ipython",
    "version": 3
   },
   "file_extension": ".py",
   "mimetype": "text/x-python",
   "name": "python",
   "nbconvert_exporter": "python",
   "pygments_lexer": "ipython3",
   "version": "3.9.2"
  },
  "orig_nbformat": 4
 },
 "nbformat": 4,
 "nbformat_minor": 2
}
