{
 "cells": [
  {
   "cell_type": "markdown",
   "metadata": {},
   "source": [
    "# Primer Data Analysis con el dataset Avocado\n",
    "---"
   ]
  },
  {
   "cell_type": "code",
   "execution_count": 1,
   "metadata": {},
   "outputs": [],
   "source": [
    "import pandas as pd\n",
    "import matplotlib.pyplot as plt\n",
    "from pandas.core.tools.datetimes import to_datetime\n",
    "from seaborn import set_theme\n",
    "set_theme()"
   ]
  },
  {
   "cell_type": "markdown",
   "metadata": {},
   "source": [
    "Tomamos la columna *Date* y la convertimos a una fecha, luego la ordemos y la colocamos como nuestro índice. Tomamos fecha como índice, pues es un valor único y todas las demás columnas dependen del tiempo."
   ]
  },
  {
   "cell_type": "code",
   "execution_count": 8,
   "metadata": {},
   "outputs": [],
   "source": [
    "df = pd.read_csv(\"./archive/avocado.csv\")\n",
    "df['Date'] = pd.to_datetime(df['Date'])\n",
    "df.sort_values(by='Date', ascending=True, inplace=True)\n",
    "df.set_index('Date', inplace=True)"
   ]
  },
  {
   "cell_type": "code",
   "execution_count": 13,
   "metadata": {},
   "outputs": [
    {
     "data": {
      "text/html": [
       "<div>\n",
       "<style scoped>\n",
       "    .dataframe tbody tr th:only-of-type {\n",
       "        vertical-align: middle;\n",
       "    }\n",
       "\n",
       "    .dataframe tbody tr th {\n",
       "        vertical-align: top;\n",
       "    }\n",
       "\n",
       "    .dataframe thead th {\n",
       "        text-align: right;\n",
       "    }\n",
       "</style>\n",
       "<table border=\"1\" class=\"dataframe\">\n",
       "  <thead>\n",
       "    <tr style=\"text-align: right;\">\n",
       "      <th></th>\n",
       "      <th>Unnamed: 0</th>\n",
       "      <th>AveragePrice</th>\n",
       "      <th>Total Volume</th>\n",
       "      <th>4046</th>\n",
       "      <th>4225</th>\n",
       "      <th>4770</th>\n",
       "      <th>Total Bags</th>\n",
       "      <th>Small Bags</th>\n",
       "      <th>Large Bags</th>\n",
       "      <th>XLarge Bags</th>\n",
       "      <th>type</th>\n",
       "      <th>year</th>\n",
       "      <th>region</th>\n",
       "    </tr>\n",
       "    <tr>\n",
       "      <th>Date</th>\n",
       "      <th></th>\n",
       "      <th></th>\n",
       "      <th></th>\n",
       "      <th></th>\n",
       "      <th></th>\n",
       "      <th></th>\n",
       "      <th></th>\n",
       "      <th></th>\n",
       "      <th></th>\n",
       "      <th></th>\n",
       "      <th></th>\n",
       "      <th></th>\n",
       "      <th></th>\n",
       "    </tr>\n",
       "  </thead>\n",
       "  <tbody>\n",
       "    <tr>\n",
       "      <th>2015-01-04</th>\n",
       "      <td>51</td>\n",
       "      <td>1.75</td>\n",
       "      <td>27365.89</td>\n",
       "      <td>9307.34</td>\n",
       "      <td>3844.81</td>\n",
       "      <td>615.28</td>\n",
       "      <td>13598.46</td>\n",
       "      <td>13061.10</td>\n",
       "      <td>537.36</td>\n",
       "      <td>0.0</td>\n",
       "      <td>organic</td>\n",
       "      <td>2015</td>\n",
       "      <td>Southeast</td>\n",
       "    </tr>\n",
       "    <tr>\n",
       "      <th>2015-01-04</th>\n",
       "      <td>51</td>\n",
       "      <td>1.49</td>\n",
       "      <td>17723.17</td>\n",
       "      <td>1189.35</td>\n",
       "      <td>15628.27</td>\n",
       "      <td>0.00</td>\n",
       "      <td>905.55</td>\n",
       "      <td>905.55</td>\n",
       "      <td>0.00</td>\n",
       "      <td>0.0</td>\n",
       "      <td>organic</td>\n",
       "      <td>2015</td>\n",
       "      <td>Chicago</td>\n",
       "    </tr>\n",
       "    <tr>\n",
       "      <th>2015-01-04</th>\n",
       "      <td>51</td>\n",
       "      <td>1.68</td>\n",
       "      <td>2896.72</td>\n",
       "      <td>161.68</td>\n",
       "      <td>206.96</td>\n",
       "      <td>0.00</td>\n",
       "      <td>2528.08</td>\n",
       "      <td>2528.08</td>\n",
       "      <td>0.00</td>\n",
       "      <td>0.0</td>\n",
       "      <td>organic</td>\n",
       "      <td>2015</td>\n",
       "      <td>HarrisburgScranton</td>\n",
       "    </tr>\n",
       "    <tr>\n",
       "      <th>2015-01-04</th>\n",
       "      <td>51</td>\n",
       "      <td>1.52</td>\n",
       "      <td>54956.80</td>\n",
       "      <td>3013.04</td>\n",
       "      <td>35456.88</td>\n",
       "      <td>1561.70</td>\n",
       "      <td>14925.18</td>\n",
       "      <td>11264.80</td>\n",
       "      <td>3660.38</td>\n",
       "      <td>0.0</td>\n",
       "      <td>conventional</td>\n",
       "      <td>2015</td>\n",
       "      <td>Pittsburgh</td>\n",
       "    </tr>\n",
       "    <tr>\n",
       "      <th>2015-01-04</th>\n",
       "      <td>51</td>\n",
       "      <td>1.64</td>\n",
       "      <td>1505.12</td>\n",
       "      <td>1.27</td>\n",
       "      <td>1129.50</td>\n",
       "      <td>0.00</td>\n",
       "      <td>374.35</td>\n",
       "      <td>186.67</td>\n",
       "      <td>187.68</td>\n",
       "      <td>0.0</td>\n",
       "      <td>organic</td>\n",
       "      <td>2015</td>\n",
       "      <td>Boise</td>\n",
       "    </tr>\n",
       "  </tbody>\n",
       "</table>\n",
       "</div>"
      ],
      "text/plain": [
       "            Unnamed: 0  AveragePrice  Total Volume     4046      4225  \\\n",
       "Date                                                                    \n",
       "2015-01-04          51          1.75      27365.89  9307.34   3844.81   \n",
       "2015-01-04          51          1.49      17723.17  1189.35  15628.27   \n",
       "2015-01-04          51          1.68       2896.72   161.68    206.96   \n",
       "2015-01-04          51          1.52      54956.80  3013.04  35456.88   \n",
       "2015-01-04          51          1.64       1505.12     1.27   1129.50   \n",
       "\n",
       "               4770  Total Bags  Small Bags  Large Bags  XLarge Bags  \\\n",
       "Date                                                                   \n",
       "2015-01-04   615.28    13598.46    13061.10      537.36          0.0   \n",
       "2015-01-04     0.00      905.55      905.55        0.00          0.0   \n",
       "2015-01-04     0.00     2528.08     2528.08        0.00          0.0   \n",
       "2015-01-04  1561.70    14925.18    11264.80     3660.38          0.0   \n",
       "2015-01-04     0.00      374.35      186.67      187.68          0.0   \n",
       "\n",
       "                    type  year              region  \n",
       "Date                                                \n",
       "2015-01-04       organic  2015           Southeast  \n",
       "2015-01-04       organic  2015             Chicago  \n",
       "2015-01-04       organic  2015  HarrisburgScranton  \n",
       "2015-01-04  conventional  2015          Pittsburgh  \n",
       "2015-01-04       organic  2015               Boise  "
      ]
     },
     "execution_count": 13,
     "metadata": {},
     "output_type": "execute_result"
    }
   ],
   "source": [
    "df.head()"
   ]
  },
  {
   "cell_type": "markdown",
   "metadata": {},
   "source": [
    "Hay que notar que en realidad la fecha no es un valor único lo cual nos dará problemas más adelante"
   ]
  },
  {
   "cell_type": "code",
   "execution_count": 26,
   "metadata": {},
   "outputs": [
    {
     "data": {
      "text/plain": [
       "array(['Southeast', 'Chicago', 'HarrisburgScranton', 'Pittsburgh',\n",
       "       'Boise', 'WestTexNewMexico', 'LosAngeles', 'LasVegas', 'Atlanta',\n",
       "       'DallasFtWorth', 'MiamiFtLauderdale', 'Plains', 'StLouis',\n",
       "       'Syracuse', 'Midsouth', 'Sacramento', 'Boston', 'Charlotte',\n",
       "       'Spokane', 'Albany', 'Houston', 'SouthCarolina', 'SanFrancisco',\n",
       "       'TotalUS', 'RaleighGreensboro', 'BuffaloRochester',\n",
       "       'NorthernNewEngland', 'GrandRapids', 'Denver', 'SanDiego',\n",
       "       'BaltimoreWashington', 'Roanoke', 'RichmondNorfolk', 'Northeast',\n",
       "       'SouthCentral', 'GreatLakes', 'Louisville', 'Seattle',\n",
       "       'CincinnatiDayton', 'NewYork', 'NewOrleansMobile', 'Indianapolis',\n",
       "       'Jacksonville', 'Columbus', 'Detroit', 'Philadelphia',\n",
       "       'PhoenixTucson', 'Nashville', 'Portland', 'HartfordSpringfield',\n",
       "       'Tampa', 'Orlando', 'West', 'California'], dtype=object)"
      ]
     },
     "execution_count": 26,
     "metadata": {},
     "output_type": "execute_result"
    }
   ],
   "source": [
    "df[\"region\"].unique()"
   ]
  },
  {
   "cell_type": "markdown",
   "metadata": {},
   "source": [
    "Tomamos una de las ciudades y exploramos un poco el dataset. Si se hace un fork de un dataset y luego cambiamos valores, pandas arrojará una advertencia, pues te previene de que creas que estás cambiando datos que no tienes o que no hagas los cambios que quieres. Para suprimirla le decimos a pandas que tomaremos una copia."
   ]
  },
  {
   "cell_type": "code",
   "execution_count": 45,
   "metadata": {},
   "outputs": [],
   "source": [
    "Albany_df = df.copy()[df[\"region\"] == \"Albany\"]"
   ]
  },
  {
   "cell_type": "markdown",
   "metadata": {},
   "source": [
    "Veamos como se ven las ventas en el tiempo."
   ]
  },
  {
   "cell_type": "code",
   "execution_count": 46,
   "metadata": {},
   "outputs": [
    {
     "data": {
      "text/plain": [
       "<AxesSubplot:xlabel='Date'>"
      ]
     },
     "execution_count": 46,
     "metadata": {},
     "output_type": "execute_result"
    },
    {
     "data": {
      "image/png": "[encoded data removed]",
      "text/plain": [
       "<Figure size 432x288 with 1 Axes>"
      ]
     },
     "metadata": {},
     "output_type": "display_data"
    }
   ],
   "source": [
    "Albany_df[\"AveragePrice\"].plot()"
   ]
  },
  {
   "cell_type": "markdown",
   "metadata": {},
   "source": [
    "Para suavizar la recta, tomaremos el promedio de los 25 valores anteriores, veamos si con esto vemos un patrón más claro y con menos ruido."
   ]
  },
  {
   "cell_type": "code",
   "execution_count": 47,
   "metadata": {},
   "outputs": [
    {
     "data": {
      "text/plain": [
       "<AxesSubplot:xlabel='Date'>"
      ]
     },
     "execution_count": 47,
     "metadata": {},
     "output_type": "execute_result"
    },
    {
     "data": {
      "image/png": "[encoded data removed]",
      "text/plain": [
       "<Figure size 432x288 with 1 Axes>"
      ]
     },
     "metadata": {},
     "output_type": "display_data"
    }
   ],
   "source": [
    "Albany_df[\"AveragePrice\"].rolling(25).mean().dropna().plot()"
   ]
  },
  {
   "cell_type": "markdown",
   "metadata": {},
   "source": [
    "Al ser un resultado significativo lo almacenamos en una variable."
   ]
  },
  {
   "cell_type": "code",
   "execution_count": 48,
   "metadata": {},
   "outputs": [],
   "source": [
    "Albany_df[\"price25ma\"] = Albany_df[\"AveragePrice\"].rolling(25).mean()"
   ]
  },
  {
   "cell_type": "markdown",
   "metadata": {},
   "source": [
    "Ahora haremos un dataframe con todas las ciudades como columnas y los precios como los valores de los renglones con las fechas como índice."
   ]
  },
  {
   "cell_type": "code",
   "execution_count": 44,
   "metadata": {},
   "outputs": [],
   "source": [
    "# graph_df = pd.DataFrame()\n",
    "\n",
    "# for region in df['region'].unique():\n",
    "#     region_df = df.copy()[df[\"region\"] == region]\n",
    "#     region_df.set_index('Date', inplace=True)\n",
    "#     region_df.sort_index(inplace=True)\n",
    "#     region_df[f\"{region}_price25ma\"] = region_df[\"AveragePrice\"].rolling(25).mean()\n",
    "    \n",
    "#     if graph_df.empty():\n",
    "#         graph_df = region_df[[f'{region}_price25ma']]\n",
    "\n",
    "#     else:\n",
    "#         graph_df = graph_df.join(region_df[[f'{region}_price25ma']])\n"
   ]
  },
  {
   "cell_type": "markdown",
   "metadata": {},
   "source": [
    "Join funciona tomando como índice el data frame al que se aplica y cuando encuentra el mismo valor en el índice le asigna la nueva columna. Así es como lo haríamos normalmente, sin embargo, recuerdan que teníamos fechas repetidas? Pues join no sabrá a cuál de los valores repetidos en el índice incertar los nuevos valores.\n",
    "\n",
    "**Esto provoca un consumo enorme de memoria RAM, por lo cual encontraremos otra forma de hacerlo.** "
   ]
  },
  {
   "cell_type": "code",
   "execution_count": 52,
   "metadata": {},
   "outputs": [
    {
     "data": {
      "text/plain": [
       "169"
      ]
     },
     "execution_count": 52,
     "metadata": {},
     "output_type": "execute_result"
    }
   ],
   "source": [
    "len(df.index.unique())"
   ]
  },
  {
   "cell_type": "code",
   "execution_count": 53,
   "metadata": {},
   "outputs": [
    {
     "name": "stdout",
     "output_type": "stream",
     "text": [
      "<class 'pandas.core.frame.DataFrame'>\n",
      "DatetimeIndex: 18249 entries, 2015-01-04 to 2018-03-25\n",
      "Data columns (total 13 columns):\n",
      " #   Column        Non-Null Count  Dtype  \n",
      "---  ------        --------------  -----  \n",
      " 0   Unnamed: 0    18249 non-null  int64  \n",
      " 1   AveragePrice  18249 non-null  float64\n",
      " 2   Total Volume  18249 non-null  float64\n",
      " 3   4046          18249 non-null  float64\n",
      " 4   4225          18249 non-null  float64\n",
      " 5   4770          18249 non-null  float64\n",
      " 6   Total Bags    18249 non-null  float64\n",
      " 7   Small Bags    18249 non-null  float64\n",
      " 8   Large Bags    18249 non-null  float64\n",
      " 9   XLarge Bags   18249 non-null  float64\n",
      " 10  type          18249 non-null  object \n",
      " 11  year          18249 non-null  int64  \n",
      " 12  region        18249 non-null  object \n",
      "dtypes: float64(9), int64(2), object(2)\n",
      "memory usage: 2.5+ MB\n"
     ]
    }
   ],
   "source": [
    "df.info()"
   ]
  },
  {
   "cell_type": "markdown",
   "metadata": {},
   "source": [
    "Podemos notar que solo tenemos 169 valores únicos en la fecha y hay más de 18'000 valores, por lo que elegir la fecha como nuestro índice fue una equivocación, pues a pesar de ser una variable de la que dependen las demás variables, no es de ningún modo única."
   ]
  },
  {
   "cell_type": "markdown",
   "metadata": {},
   "source": [
    "En caso de haber tenido las fechas correctas, podríamos hacer plotear todas las ciudades."
   ]
  },
  {
   "cell_type": "code",
   "execution_count": null,
   "metadata": {},
   "outputs": [],
   "source": [
    "# graph_df.dropna().plot(figsize=(14, 8), lagend=False)"
   ]
  }
 ],
 "metadata": {
  "interpreter": {
   "hash": "018d6bb511f7e2114cc8c8fc69bbe5b589d4098b6867ddafc353a3d33e3bb29a"
  },
  "kernelspec": {
   "display_name": "Python 3.9.2 64-bit",
   "name": "python3"
  },
  "language_info": {
   "codemirror_mode": {
    "name": "ipython",
    "version": 3
   },
   "file_extension": ".py",
   "mimetype": "text/x-python",
   "name": "python",
   "nbconvert_exporter": "python",
   "pygments_lexer": "ipython3",
   "version": "3.9.2"
  },
  "orig_nbformat": 4
 },
 "nbformat": 4,
 "nbformat_minor": 2
}
