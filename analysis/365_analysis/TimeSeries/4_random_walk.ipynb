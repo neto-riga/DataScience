{
 "cells": [
  {
   "cell_type": "markdown",
   "metadata": {},
   "source": [
    "#### Random Walk\n",
    "Special type of time-series, where values tend to persist over time and the **difference between periods are white noise**"
   ]
  },
  {
   "cell_type": "code",
   "execution_count": 1,
   "metadata": {},
   "outputs": [],
   "source": [
    "import matplotlib.pyplot as plt\n",
    "import numpy as np\n",
    "import pandas as pd\n",
    "import statsmodels.graphics.tsaplots as sgt\n",
    "import statsmodels.tsa.stattools as sts\n",
    "from statsmodels.tsa.seasonal import seasonal_decompose\n",
    "import seaborn as sns\n",
    "sns.set_theme(rc={\"font.size\": 23, \"axes.titlesize\": 23, \"axes.labelsize\": 22,\n",
    "                  'xtick.labelsize': 15, 'ytick.labelsize': 15,})"
   ]
  },
  {
   "cell_type": "code",
   "execution_count": 3,
   "metadata": {},
   "outputs": [
    {
     "data": {
      "text/html": [
       "<div>\n",
       "<style scoped>\n",
       "    .dataframe tbody tr th:only-of-type {\n",
       "        vertical-align: middle;\n",
       "    }\n",
       "\n",
       "    .dataframe tbody tr th {\n",
       "        vertical-align: top;\n",
       "    }\n",
       "\n",
       "    .dataframe thead th {\n",
       "        text-align: right;\n",
       "    }\n",
       "</style>\n",
       "<table border=\"1\" class=\"dataframe\">\n",
       "  <thead>\n",
       "    <tr style=\"text-align: right;\">\n",
       "      <th></th>\n",
       "      <th>dax</th>\n",
       "    </tr>\n",
       "    <tr>\n",
       "      <th>date</th>\n",
       "      <th></th>\n",
       "    </tr>\n",
       "  </thead>\n",
       "  <tbody>\n",
       "    <tr>\n",
       "      <th>1994-01-07</th>\n",
       "      <td>2224.95</td>\n",
       "    </tr>\n",
       "    <tr>\n",
       "      <th>1994-01-10</th>\n",
       "      <td>2225.00</td>\n",
       "    </tr>\n",
       "    <tr>\n",
       "      <th>1994-01-11</th>\n",
       "      <td>2228.10</td>\n",
       "    </tr>\n",
       "    <tr>\n",
       "      <th>1994-01-12</th>\n",
       "      <td>2182.06</td>\n",
       "    </tr>\n",
       "    <tr>\n",
       "      <th>1994-01-13</th>\n",
       "      <td>2142.37</td>\n",
       "    </tr>\n",
       "  </tbody>\n",
       "</table>\n",
       "</div>"
      ],
      "text/plain": [
       "                dax\n",
       "date               \n",
       "1994-01-07  2224.95\n",
       "1994-01-10  2225.00\n",
       "1994-01-11  2228.10\n",
       "1994-01-12  2182.06\n",
       "1994-01-13  2142.37"
      ]
     },
     "execution_count": 3,
     "metadata": {},
     "output_type": "execute_result"
    }
   ],
   "source": [
    "# Loading\n",
    "directory = \"C:/Users/42111/Desktop/DataScience/analysis/archive/dataScience365/3_1_index2018/Index2018.csv\"\n",
    "raw_data = pd.read_csv(directory).copy()\n",
    "\n",
    "# Keep just dax stock market\n",
    "dax_df = raw_data.copy()[['dax', 'date']]\n",
    "\n",
    "# Transforming to datetime as index with b freq\n",
    "dax_df['date'] = pd.to_datetime(dax_df['date'], dayfirst=True)\n",
    "dax_df.set_index('date', inplace=True)\n",
    "dax_df = dax_df.asfreq('b')\n",
    "\n",
    "# Fill na's with last valid observation before the nan\n",
    "dax_df = dax_df.fillna(method='ffill')\n",
    "dax_df.head()"
   ]
  },
  {
   "cell_type": "code",
   "execution_count": null,
   "metadata": {},
   "outputs": [],
   "source": [
    "# Split train and test dfs\n",
    "size = int(len(dax_df) * 0.8) # To separate 80% of the data\n",
    "df_train, df_test = dax_df.iloc[:size].copy(), dax_df.iloc[size:].copy()\n",
    "df_train.head()"
   ]
  }
 ],
 "metadata": {
  "interpreter": {
   "hash": "018d6bb511f7e2114cc8c8fc69bbe5b589d4098b6867ddafc353a3d33e3bb29a"
  },
  "kernelspec": {
   "display_name": "Python 3.9.2 64-bit",
   "name": "python3"
  },
  "language_info": {
   "codemirror_mode": {
    "name": "ipython",
    "version": 3
   },
   "file_extension": ".py",
   "mimetype": "text/x-python",
   "name": "python",
   "nbconvert_exporter": "python",
   "pygments_lexer": "ipython3",
   "version": "3.9.2"
  },
  "orig_nbformat": 4
 },
 "nbformat": 4,
 "nbformat_minor": 2
}
